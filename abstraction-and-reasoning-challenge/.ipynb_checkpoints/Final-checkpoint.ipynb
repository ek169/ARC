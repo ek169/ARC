{
 "cells": [
  {
   "cell_type": "markdown",
   "metadata": {},
   "source": [
    "<h3>Model</h3>"
   ]
  },
  {
   "cell_type": "code",
   "execution_count": null,
   "metadata": {},
   "outputs": [],
   "source": [
    "import torch\n",
    "from torch.nn import CrossEntropyLoss\n",
    "from torch.optim import Adam\n",
    "from torch.nn import Conv2d\n",
    "from torch import FloatTensor, LongTensor\n",
    "\n",
    "\n",
    "\n",
    "def inp2img(inp):\n",
    "    inp = np.array(inp)\n",
    "    img = np.full((10, inp.shape[0], inp.shape[1]), 0, dtype=np.uint8)\n",
    "    for i in range(10):\n",
    "        img[i] = (inp==i)\n",
    "    return img\n",
    "\n",
    "\n",
    "class TaskSolver:        \n",
    "    def train(self, task_train, n_epoch=30):\n",
    "        \"\"\"basic pytorch train loop\"\"\"\n",
    "        self.net = Conv2d(in_channels=10, out_channels=10, kernel_size=5, padding=2)\n",
    "        \n",
    "        criterion = CrossEntropyLoss()\n",
    "        optimizer = Adam(self.net.parameters(), lr = 0.1)\n",
    "        \n",
    "        for epoch in range(n_epoch):\n",
    "            for sample in task_train:\n",
    "                inputs = FloatTensor(inp2img(sample['input'])).unsqueeze(dim=0)\n",
    "                labels = LongTensor(sample['output']).unsqueeze(dim=0)\n",
    "                \n",
    "                optimizer.zero_grad()\n",
    "                outputs = self.net(inputs)\n",
    "                loss = criterion(outputs, labels)\n",
    "                loss.backward()\n",
    "                optimizer.step()\n",
    "        \n",
    "        return self\n",
    "            \n",
    "    def predict(self, task_test):\n",
    "        predictions = []\n",
    "        with torch.no_grad():\n",
    "            for sample in task_test:\n",
    "                inputs = FloatTensor(inp2img(sample['input'])).unsqueeze(dim=0)\n",
    "                outputs = self.net(inputs)\n",
    "                pred =  outputs.squeeze(dim=0).cpu().numpy().argmax(0)\n",
    "                predictions.append(pred)\n",
    "                                     \n",
    "        return predictions"
   ]
  },
  {
   "cell_type": "markdown",
   "metadata": {},
   "source": [
    "<h3>Results</h3>"
   ]
  },
  {
   "cell_type": "code",
   "execution_count": null,
   "metadata": {},
   "outputs": [],
   "source": [
    "def input_output_shape_is_same(task):\n",
    "    return all([np.array(el['input']).shape == np.array(el['output']).shape for el in task['train']])\n",
    "\n",
    "def calk_score(task_test, predict):\n",
    "    return [int(np.equal(sample['output'], pred).all()) for sample, pred in zip(task_test, predict)]"
   ]
  },
  {
   "cell_type": "markdown",
   "metadata": {},
   "source": [
    "<h3> Evaluate </h3>"
   ]
  },
  {
   "cell_type": "code",
   "execution_count": null,
   "metadata": {},
   "outputs": [],
   "source": [
    "def evaluate(tasks):\n",
    "    ts = TaskSolver()\n",
    "    result = []\n",
    "    predictions = []\n",
    "    for task in tqdm(tasks):\n",
    "        if input_output_shape_is_same(task):\n",
    "            ts.train(task['train'])\n",
    "            pred = ts.predict(task['test'])\n",
    "            score = calk_score(task['test'], pred)\n",
    "        else:\n",
    "            pred = [el['input'] for el in task['test']]\n",
    "            score = [0]*len(task['test'])\n",
    "        \n",
    "        predictions.append(pred)\n",
    "        result.append(score)\n",
    "       \n",
    "    return result, predictions"
   ]
  },
  {
   "cell_type": "markdown",
   "metadata": {},
   "source": [
    "<h3></h3>"
   ]
  },
  {
   "cell_type": "code",
   "execution_count": null,
   "metadata": {},
   "outputs": [],
   "source": [
    "import matplotlib.pyplot as plt\n",
    "from matplotlib import colors\n",
    "\n",
    "\n",
    "cmap = colors.ListedColormap(\n",
    "        ['#000000', '#0074D9','#FF4136','#2ECC40','#FFDC00',\n",
    "         '#AAAAAA', '#F012BE', '#FF851B', '#7FDBFF', '#870C25'])\n",
    "norm = colors.Normalize(vmin=0, vmax=9)\n",
    "    \n",
    "def plot_pictures(pictures, labels):\n",
    "    fig, axs = plt.subplots(1, len(pictures), figsize=(2*len(pictures),32))\n",
    "    for i, (pict, label) in enumerate(zip(pictures, labels)):\n",
    "        axs[i].imshow(np.array(pict), cmap=cmap, norm=norm)\n",
    "        axs[i].set_title(label)\n",
    "    plt.show()\n",
    "    \n",
    "\n",
    "def plot_sample(sample, predict=None):\n",
    "    if predict is None:\n",
    "        plot_pictures([sample['input'], sample['output']], ['Input', 'Output'])\n",
    "    else:\n",
    "        plot_pictures([sample['input'], sample['output'], predict], ['Input', 'Output', 'Predict'])"
   ]
  }
 ],
 "metadata": {
  "kernelspec": {
   "display_name": "Python 3",
   "language": "python",
   "name": "python3"
  },
  "language_info": {
   "codemirror_mode": {
    "name": "ipython",
    "version": 3
   },
   "file_extension": ".py",
   "mimetype": "text/x-python",
   "name": "python",
   "nbconvert_exporter": "python",
   "pygments_lexer": "ipython3",
   "version": "3.7.4"
  }
 },
 "nbformat": 4,
 "nbformat_minor": 2
}
