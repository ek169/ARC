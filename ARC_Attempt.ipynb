{
 "cells": [
  {
   "cell_type": "code",
   "execution_count": 1,
   "metadata": {},
   "outputs": [],
   "source": [
    "import numpy as np\n",
    "import pandas as pd\n",
    "import copy\n",
    "from tqdm import tqdm\n",
    "import torch\n",
    "import torch.nn as nn\n",
    "from torch.optim import Adam\n",
    "from torch.utils.data import Dataset, DataLoader\n"
   ]
  },
  {
   "cell_type": "code",
   "execution_count": 2,
   "metadata": {},
   "outputs": [],
   "source": [
    "import json\n",
    "import os\n",
    "from os.path import join as path_join\n",
    "\n",
    "\n",
    "def load_data(path):\n",
    "    tasks = pd.Series()\n",
    "    for file_path in os.listdir(path):\n",
    "        task_file = path_join(path, file_path)\n",
    "\n",
    "        with open(task_file, 'r') as f:\n",
    "            task = json.load(f)\n",
    "\n",
    "        tasks[file_path[:-5]] = task\n",
    "    return tasks"
   ]
  },
  {
   "cell_type": "code",
   "execution_count": 3,
   "metadata": {
    "scrolled": true
   },
   "outputs": [],
   "source": [
    "train_tasks = load_data('abstraction-and-reasoning-challenge/training/')\n",
    "evaluation_tasks = load_data('abstraction-and-reasoning-challenge/evaluation/')\n",
    "test_tasks = load_data('abstraction-and-reasoning-challenge/test/')"
   ]
  },
  {
   "cell_type": "code",
   "execution_count": 4,
   "metadata": {},
   "outputs": [],
   "source": [
    "import torch.nn as nn\n",
    "import torch \n",
    "from torch.nn import CrossEntropyLoss, MSELoss\n",
    "from torch.optim import Adam\n",
    "from torch.nn import Conv2d\n",
    "from torch import FloatTensor, LongTensor\n",
    "import torch.nn.functional as F\n",
    "\n",
    "device = 'cuda' if torch.cuda.is_available() else 'cpu'\n",
    "\n",
    "def increase_dim(matrix):\n",
    "    matrix = np.array(matrix)\n",
    "    matrix_out = np.full((10, matrix.shape[0], matrix.shape[1]), 0, dtype=np.uint8)\n",
    "    for i in range(10):\n",
    "        matrix_out[i] = (matrix==i)\n",
    "    return matrix_out\n",
    "\n",
    "def decrease_dim(matrix):\n",
    "    return matrix.squeeze(0).argmax(0).cpu().numpy()\n",
    "\n",
    "\n",
    "class CellularAutomata(nn.Module):     \n",
    "    \n",
    "    def __init__(self, num_states=10, num_hidden_layers=1):\n",
    "        \n",
    "        super(CellularAutomata, self).__init__()\n",
    "        \n",
    "        # sequential network\n",
    "        net = nn.Sequential()\n",
    "        \n",
    "        # same number of channels as paper which network is based off of (100)\n",
    "        net.add_module(\n",
    "            \"conv_in\", nn.Conv2d(in_channels=num_states, out_channels=100, kernel_size=3, padding=1)\n",
    "        )\n",
    "        \n",
    "        # ReLu activation\n",
    "        net.add_module(\"relu_in\", nn.ReLU())\n",
    "        \n",
    "        # adding number of hidden layers\n",
    "        for i in range(0, num_hidden_layers):\n",
    "            net.add_module(\n",
    "                \"conv_h\" + str(i), nn.Conv2d(in_channels=100, out_channels=100, kernel_size=1),\n",
    "            )             \n",
    "            \n",
    "            net.add_module(\"relu_h\" + str(i), nn.ReLU())\n",
    "            \n",
    "            net.add_module(\"batch_norm_h\" + str(i), nn.BatchNorm2d(100))\n",
    "            \n",
    "            \n",
    "        # output layer \n",
    "        net.add_module(\"conv_out\", nn.Conv2d(in_channels=100, out_channels=num_states, kernel_size=1))\n",
    "        \n",
    "        self.net = net\n",
    "        \n",
    "        \n",
    "    def forward(self, x, repeats=1):\n",
    "                \n",
    "        for r in range(0,repeats):\n",
    "            x = self.net(torch.softmax(x, dim=1))\n",
    "            #x = self.net(F.relu(x))\n",
    "            \n",
    "        return x\n",
    "   "
   ]
  },
  {
   "cell_type": "code",
   "execution_count": 5,
   "metadata": {},
   "outputs": [],
   "source": [
    " def train(model, task_train, learning_rate, learning_rate_steps, n_epoch):  \n",
    "    \n",
    "    losses = np.zeros(n_epoch*learning_rate_steps)\n",
    "\n",
    "    \n",
    "    criterion = CrossEntropyLoss()\n",
    "    \n",
    "    # need to step down learning rate as we go \n",
    "    for l in range(1,learning_rate_steps):\n",
    "\n",
    "        optimizer = torch.optim.Adam(model.parameters(), lr = (learning_rate/(2*l)))\n",
    "\n",
    "        for epoch in range(n_epoch):\n",
    "\n",
    "            loss = 0\n",
    "            optimizer.zero_grad()\n",
    "\n",
    "\n",
    "            for sample in task_train:\n",
    "\n",
    "                # predict output from input\n",
    "                inputs = FloatTensor(increase_dim(sample['input'])).unsqueeze(dim=0).to(device)\n",
    "\n",
    "                labels_check = FloatTensor(increase_dim(sample['output'])).unsqueeze(dim=0).to(device)\n",
    "                labels = LongTensor(sample['output']).unsqueeze(dim=0)\n",
    "\n",
    "                y_pred = model(inputs)\n",
    "                loss += criterion(y_pred, labels)\n",
    "\n",
    "                y_pred = model(labels_check) \n",
    "                loss += criterion(y_pred, labels)\n",
    "\n",
    "            loss.backward()\n",
    "            optimizer.step()\n",
    "            losses[(n_epoch * (l-1)) + epoch] = loss.item()\n",
    "\n",
    "\n",
    "    return model, losses\n",
    "\n",
    "\n",
    "def predict(model, task_test):\n",
    "    predictions = []\n",
    "    with torch.no_grad():\n",
    "        for sample in task_test:\n",
    "            inputs = FloatTensor(increase_dim(sample['input'])).unsqueeze(dim=0).to(device)\n",
    "            outputs = model(inputs,100)\n",
    "            pred =  decrease_dim(outputs)\n",
    "            predictions.append(pred)\n",
    "\n",
    "    return predictions"
   ]
  },
  {
   "cell_type": "code",
   "execution_count": 6,
   "metadata": {},
   "outputs": [],
   "source": [
    "def input_output_shape_is_same(task):\n",
    "    return all([np.array(el['input']).shape == np.array(el['output']).shape for el in task['train']])\n",
    "\n",
    "def calk_score(task_test, predict):\n",
    "    return [int(np.equal(sample['output'], pred).all()) for sample, pred in zip(task_test, predict)]"
   ]
  },
  {
   "cell_type": "code",
   "execution_count": 14,
   "metadata": {},
   "outputs": [],
   "source": [
    "def evaluate(tasks, hidden_layers=1, lr=0.1, lr_steps=10, epochs=15):\n",
    "    result = []\n",
    "    predictions = []\n",
    "    loss = 0\n",
    "    for task in tqdm(tasks):\n",
    "        ca = CellularAutomata(num_hidden_layers=hidden_layers)\n",
    "\n",
    "        if input_output_shape_is_same(task):\n",
    "            ca, loss = train(ca, task['train'],lr, lr_steps, epochs)\n",
    "            pred = predict(ca, task['test'])\n",
    "            score = calk_score(task['test'], pred)\n",
    "        else:\n",
    "            pred = [el['input'] for el in task['test']]\n",
    "            score = [0]*len(task['test'])\n",
    "        \n",
    "        predictions.append(pred)\n",
    "        result.append(score)\n",
    "       \n",
    "    return result, loss, predictions"
   ]
  },
  {
   "cell_type": "code",
   "execution_count": 16,
   "metadata": {
    "scrolled": false
   },
   "outputs": [
    {
     "name": "stderr",
     "output_type": "stream",
     "text": [
      "100%|██████████| 400/400 [15:04<00:00,  2.26s/it]"
     ]
    },
    {
     "name": "stdout",
     "output_type": "stream",
     "text": [
      "solved : 13 from 416 (0.03125)\n"
     ]
    },
    {
     "name": "stderr",
     "output_type": "stream",
     "text": [
      "\n"
     ]
    }
   ],
   "source": [
    "train_result, loss, train_predictions = evaluate(train_tasks)\n",
    "train_solved = [any(score) for score in train_result]\n",
    "\n",
    "total = sum([len(score) for score in train_result])\n",
    "print(f\"solved : {sum(train_solved)} from {total} ({sum(train_solved)/total})\")"
   ]
  },
  {
   "cell_type": "code",
   "execution_count": 10,
   "metadata": {
    "scrolled": true
   },
   "outputs": [
    {
     "name": "stderr",
     "output_type": "stream",
     "text": [
      "100%|██████████| 1/1 [00:24<00:00, 24.81s/it]"
     ]
    },
    {
     "name": "stdout",
     "output_type": "stream",
     "text": [
      "solved : 0 from 1 (0.0)\n",
      "hl: 10, num solved: [False]\n"
     ]
    },
    {
     "name": "stderr",
     "output_type": "stream",
     "text": [
      "\n"
     ]
    }
   ],
   "source": [
    "results = []\n",
    "\n",
    "for hl in [10]:\n",
    "    for ep in [20]:\n",
    "        train_result, loss, train_predictions = evaluate([train_tasks[0]],hl, epochs=ep)\n",
    "        train_solved = [any(score) for score in train_result]\n",
    "        total = sum([len(score) for score in train_result])\n",
    "        print(f\"solved : {sum(train_solved)} from {total} ({sum(train_solved)/total})\")\n",
    "        results.append((hl, train_solved))\n",
    "        print(\"hl: \" + str(hl) + \", num solved: \" + str(train_solved))"
   ]
  },
  {
   "cell_type": "code",
   "execution_count": 11,
   "metadata": {},
   "outputs": [
    {
     "name": "stdout",
     "output_type": "stream",
     "text": [
      "0.0\n"
     ]
    },
    {
     "data": {
      "text/plain": [
       "<Figure size 640x480 with 1 Axes>"
      ]
     },
     "metadata": {},
     "output_type": "display_data"
    }
   ],
   "source": [
    "import matplotlib.pyplot as plt\n",
    "print(loss[-1])\n",
    "plt.plot(loss)\n",
    "plt.title(\"Training Loss For Training Example 0\")\n",
    "plt.xlabel(\"Number of Epochs\")\n",
    "plt.ylabel(\"Loss\")\n",
    "plt.show()"
   ]
  },
  {
   "cell_type": "code",
   "execution_count": null,
   "metadata": {},
   "outputs": [],
   "source": []
  },
  {
   "cell_type": "code",
   "execution_count": 720,
   "metadata": {},
   "outputs": [
    {
     "data": {
      "text/plain": [
       "[[array([[0, 0, 0, 0, 0, 0, 0, 0, 0, 0],\n",
       "         [0, 0, 0, 0, 0, 1, 2, 1, 1, 0],\n",
       "         [0, 0, 0, 0, 1, 2, 1, 2, 1, 0],\n",
       "         [0, 0, 1, 0, 0, 0, 0, 0, 0, 0],\n",
       "         [0, 1, 2, 1, 0, 0, 0, 0, 0, 0],\n",
       "         [0, 0, 0, 0, 0, 0, 0, 0, 1, 0],\n",
       "         [0, 0, 0, 0, 0, 0, 0, 0, 1, 0],\n",
       "         [0, 0, 0, 0, 0, 0, 0, 0, 0, 0],\n",
       "         [0, 0, 0, 0, 0, 0, 0, 0, 1, 0],\n",
       "         [0, 0, 0, 0, 0, 0, 0, 0, 0, 0]])]]"
      ]
     },
     "execution_count": 720,
     "metadata": {},
     "output_type": "execute_result"
    }
   ],
   "source": [
    "train_predictions"
   ]
  },
  {
   "cell_type": "code",
   "execution_count": 778,
   "metadata": {},
   "outputs": [
    {
     "name": "stderr",
     "output_type": "stream",
     "text": [
      "100%|██████████| 400/400 [1:04:11<00:00,  9.63s/it]"
     ]
    },
    {
     "name": "stdout",
     "output_type": "stream",
     "text": [
      "solved : 0 from 419 (0.0)\n"
     ]
    },
    {
     "name": "stderr",
     "output_type": "stream",
     "text": [
      "\n"
     ]
    }
   ],
   "source": [
    "evaluation_result, loss, evaluation_predictions = evaluate(evaluation_tasks)\n",
    "evaluation_solved = [any(score) for score in evaluation_result]\n",
    "\n",
    "total = sum([len(score) for score in evaluation_result])\n",
    "print(f\"solved : {sum(evaluation_solved)} from {total} ({sum(evaluation_solved)/total})\")"
   ]
  },
  {
   "cell_type": "code",
   "execution_count": 750,
   "metadata": {},
   "outputs": [],
   "source": [
    "import matplotlib.pyplot as plt\n",
    "from matplotlib import colors\n",
    "\n",
    "\n",
    "cmap = colors.ListedColormap(\n",
    "        ['#000000', '#0074D9','#FF4136','#2ECC40','#FFDC00',\n",
    "         '#AAAAAA', '#F012BE', '#FF851B', '#7FDBFF', '#870C25'])\n",
    "norm = colors.Normalize(vmin=0, vmax=9)\n",
    "    \n",
    "def plot_pictures(pictures, labels):\n",
    "    fig, axs = plt.subplots(1, len(pictures), figsize=(2*len(pictures),32))\n",
    "    for i, (pict, label) in enumerate(zip(pictures, labels)):\n",
    "        axs[i].imshow(np.array(pict), cmap=cmap, norm=norm)\n",
    "        axs[i].set_title(label)\n",
    "    plt.show()\n",
    "    \n",
    "\n",
    "def plot_sample(sample, predict=None):\n",
    "    if predict is None:\n",
    "        plot_pictures([sample['input'], sample['output']], ['Input', 'Output'])\n",
    "    else:\n",
    "        plot_pictures([sample['input'], sample['output'], predict], ['Input', 'Output', 'Predict'])"
   ]
  },
  {
   "cell_type": "code",
   "execution_count": 771,
   "metadata": {},
   "outputs": [
    {
     "name": "stderr",
     "output_type": "stream",
     "text": [
      "\r",
      "0it [00:00, ?it/s]"
     ]
    },
    {
     "data": {
      "image/png": "[encoded data removed]",
      "text/plain": [
       "<Figure size 288x2304 with 2 Axes>"
      ]
     },
     "metadata": {
      "needs_background": "light"
     },
     "output_type": "display_data"
    },
    {
     "data": {
      "image/png": "[encoded data removed]",
      "text/plain": [
       "<Figure size 288x2304 with 2 Axes>"
      ]
     },
     "metadata": {
      "needs_background": "light"
     },
     "output_type": "display_data"
    },
    {
     "data": {
      "image/png": "[encoded data removed]",
      "text/plain": [
       "<Figure size 288x2304 with 2 Axes>"
      ]
     },
     "metadata": {
      "needs_background": "light"
     },
     "output_type": "display_data"
    },
    {
     "data": {
      "image/png": "[encoded data removed]",
      "text/plain": [
       "<Figure size 288x2304 with 2 Axes>"
      ]
     },
     "metadata": {
      "needs_background": "light"
     },
     "output_type": "display_data"
    },
    {
     "data": {
      "image/png": "[encoded data removed]",
      "text/plain": [
       "<Figure size 432x2304 with 3 Axes>"
      ]
     },
     "metadata": {
      "needs_background": "light"
     },
     "output_type": "display_data"
    },
    {
     "name": "stderr",
     "output_type": "stream",
     "text": [
      "1it [00:01,  1.73s/it]\n"
     ]
    }
   ],
   "source": [
    "for task, prediction, solved in tqdm(zip(train_tasks, train_predictions, train_solved)):\n",
    "    #if solved:\n",
    "    for i in range(len(task['train'])):\n",
    "        plot_sample(task['train'][i])\n",
    "\n",
    "    for i in range(len(task['test'])):\n",
    "        plot_sample(task['test'][i], prediction[i])"
   ]
  },
  {
   "cell_type": "code",
   "execution_count": 55,
   "metadata": {},
   "outputs": [],
   "source": [
    "def replace_values(a, d):\n",
    "    return np.array([d.get(i, -1) for i in range(a.min(), a.max() + 1)])[a - a.min()]\n",
    "\n",
    "\n",
    "def get_outp(outp, dictionary=None, replace=True):\n",
    "    if replace:\n",
    "        outp = replace_values(outp, dictionary)\n",
    "\n",
    "    outp_matrix_dims = outp.shape\n",
    "    outp_probs_len = outp.shape[0]*outp.shape[1]*10\n",
    "    outp = to_categorical(outp.flatten(),\n",
    "                          num_classes=10).flatten()\n",
    "\n",
    "    return outp, outp_probs_len, outp_matrix_dims"
   ]
  },
  {
   "cell_type": "code",
   "execution_count": 66,
   "metadata": {},
   "outputs": [],
   "source": [
    "SIZE = 1000"
   ]
  },
  {
   "cell_type": "code",
   "execution_count": 123,
   "metadata": {},
   "outputs": [
    {
     "name": "stdout",
     "output_type": "stream",
     "text": [
      "[[0 0 5]\n",
      " [0 5 0]\n",
      " [5 0 0]\n",
      " [0 0 5]\n",
      " [0 5 0]\n",
      " [5 0 0]\n",
      " [0 0 5]\n",
      " [0 5 0]\n",
      " [5 0 0]\n",
      " [0 0 5]]\n"
     ]
    }
   ],
   "source": [
    "x1 = train_tasks[0][\"train\"][0][\"input\"]\n",
    "print(duplicate_matrix(x1,N=10))"
   ]
  },
  {
   "cell_type": "code",
   "execution_count": 613,
   "metadata": {},
   "outputs": [],
   "source": [
    "def flattener(pred):\n",
    "    str_pred = str([row for row in pred])\n",
    "    str_pred = str_pred.replace(', ', '')\n",
    "    str_pred = str_pred.replace('[[', '|')\n",
    "    str_pred = str_pred.replace('][', '|')\n",
    "    str_pred = str_pred.replace(']]', '|')\n",
    "    return str_pred\n",
    "\n",
    "def make_prediction(tasks):\n",
    "    ts = TaskSolver()\n",
    "    result = pd.Series()\n",
    "    for idx, task in tqdm(test_tasks.iteritems()):\n",
    "        if input_output_shape_is_same(task):\n",
    "            ts.train(task['train'])\n",
    "            pred = ts.predict(task['test'])\n",
    "        else:\n",
    "            pred = [el['input'] for el in task['test']]\n",
    "        \n",
    "        for i, p in enumerate(pred):\n",
    "            result[f'{idx}_{i}'] = flattener(np.array(p).tolist())\n",
    "       \n",
    "    return result"
   ]
  },
  {
   "cell_type": "code",
   "execution_count": 614,
   "metadata": {},
   "outputs": [
    {
     "name": "stderr",
     "output_type": "stream",
     "text": [
      "100it [00:19,  5.16it/s]\n"
     ]
    },
    {
     "data": {
      "text/plain": [
       "14754a24_0    |0050052050502545005|0550542250520450550|52505...\n",
       "2037f2c7_0    |0000000000000000000000000|0000000000000000000...\n",
       "00dbd492_0    |00000000000222220000|02222222228008020000|020...\n",
       "19bb5feb_0    |000000000000000|000000000000000|0000000000000...\n",
       "292dd178_0    |201011121111210|910111101111200|9121122912212...\n",
       "dtype: object"
      ]
     },
     "execution_count": 614,
     "metadata": {},
     "output_type": "execute_result"
    }
   ],
   "source": [
    "submission = make_prediction(test_tasks)\n",
    "submission.head()"
   ]
  },
  {
   "cell_type": "code",
   "execution_count": 615,
   "metadata": {},
   "outputs": [
    {
     "data": {
      "text/html": [
       "<div>\n",
       "<style scoped>\n",
       "    .dataframe tbody tr th:only-of-type {\n",
       "        vertical-align: middle;\n",
       "    }\n",
       "\n",
       "    .dataframe tbody tr th {\n",
       "        vertical-align: top;\n",
       "    }\n",
       "\n",
       "    .dataframe thead th {\n",
       "        text-align: right;\n",
       "    }\n",
       "</style>\n",
       "<table border=\"1\" class=\"dataframe\">\n",
       "  <thead>\n",
       "    <tr style=\"text-align: right;\">\n",
       "      <th></th>\n",
       "      <th>output_id</th>\n",
       "      <th>output</th>\n",
       "    </tr>\n",
       "  </thead>\n",
       "  <tbody>\n",
       "    <tr>\n",
       "      <td>0</td>\n",
       "      <td>14754a24_0</td>\n",
       "      <td>|0050052050502545005|0550542250520450550|52505...</td>\n",
       "    </tr>\n",
       "    <tr>\n",
       "      <td>1</td>\n",
       "      <td>2037f2c7_0</td>\n",
       "      <td>|0000000000000000000000000|0000000000000000000...</td>\n",
       "    </tr>\n",
       "    <tr>\n",
       "      <td>2</td>\n",
       "      <td>00dbd492_0</td>\n",
       "      <td>|00000000000222220000|02222222228008020000|020...</td>\n",
       "    </tr>\n",
       "    <tr>\n",
       "      <td>3</td>\n",
       "      <td>19bb5feb_0</td>\n",
       "      <td>|000000000000000|000000000000000|0000000000000...</td>\n",
       "    </tr>\n",
       "    <tr>\n",
       "      <td>4</td>\n",
       "      <td>292dd178_0</td>\n",
       "      <td>|201011121111210|910111101111200|9121122912212...</td>\n",
       "    </tr>\n",
       "    <tr>\n",
       "      <td>...</td>\n",
       "      <td>...</td>\n",
       "      <td>...</td>\n",
       "    </tr>\n",
       "    <tr>\n",
       "      <td>99</td>\n",
       "      <td>1c0d0a4b_0</td>\n",
       "      <td>|0000000000000|0020002000020|0020220020000|020...</td>\n",
       "    </tr>\n",
       "    <tr>\n",
       "      <td>100</td>\n",
       "      <td>00576224_0</td>\n",
       "      <td>|32|78|</td>\n",
       "    </tr>\n",
       "    <tr>\n",
       "      <td>101</td>\n",
       "      <td>2f0c5170_0</td>\n",
       "      <td>|8888888888888888888|8888888888888888888|88888...</td>\n",
       "    </tr>\n",
       "    <tr>\n",
       "      <td>102</td>\n",
       "      <td>33b52de3_0</td>\n",
       "      <td>|00000000000000000000000|000800088808880888088...</td>\n",
       "    </tr>\n",
       "    <tr>\n",
       "      <td>103</td>\n",
       "      <td>34b99a2b_0</td>\n",
       "      <td>|080045000|080845505|880840055|888845055|00884...</td>\n",
       "    </tr>\n",
       "  </tbody>\n",
       "</table>\n",
       "<p>104 rows × 2 columns</p>\n",
       "</div>"
      ],
      "text/plain": [
       "      output_id                                             output\n",
       "0    14754a24_0  |0050052050502545005|0550542250520450550|52505...\n",
       "1    2037f2c7_0  |0000000000000000000000000|0000000000000000000...\n",
       "2    00dbd492_0  |00000000000222220000|02222222228008020000|020...\n",
       "3    19bb5feb_0  |000000000000000|000000000000000|0000000000000...\n",
       "4    292dd178_0  |201011121111210|910111101111200|9121122912212...\n",
       "..          ...                                                ...\n",
       "99   1c0d0a4b_0  |0000000000000|0020002000020|0020220020000|020...\n",
       "100  00576224_0                                            |32|78|\n",
       "101  2f0c5170_0  |8888888888888888888|8888888888888888888|88888...\n",
       "102  33b52de3_0  |00000000000000000000000|000800088808880888088...\n",
       "103  34b99a2b_0  |080045000|080845505|880840055|888845055|00884...\n",
       "\n",
       "[104 rows x 2 columns]"
      ]
     },
     "execution_count": 615,
     "metadata": {},
     "output_type": "execute_result"
    }
   ],
   "source": [
    "submission = submission.reset_index()\n",
    "submission.columns = ['output_id', 'output']\n",
    "submission.to_csv('submission.csv', index=False)\n",
    "submission"
   ]
  },
  {
   "cell_type": "code",
   "execution_count": null,
   "metadata": {},
   "outputs": [],
   "source": []
  }
 ],
 "metadata": {
  "kernelspec": {
   "display_name": "Python 3",
   "language": "python",
   "name": "python3"
  },
  "language_info": {
   "codemirror_mode": {
    "name": "ipython",
    "version": 3
   },
   "file_extension": ".py",
   "mimetype": "text/x-python",
   "name": "python",
   "nbconvert_exporter": "python",
   "pygments_lexer": "ipython3",
   "version": "3.7.4"
  }
 },
 "nbformat": 4,
 "nbformat_minor": 2
}
